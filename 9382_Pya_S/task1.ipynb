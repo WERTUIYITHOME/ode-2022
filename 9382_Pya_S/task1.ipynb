{
  "metadata": {
    "kernelspec": {
      "name": "python",
      "display_name": "Pyolite",
      "language": "python"
    },
    "language_info": {
      "codemirror_mode": {
        "name": "python",
        "version": 3
      },
      "file_extension": ".py",
      "mimetype": "text/x-python",
      "name": "python",
      "nbconvert_exporter": "python",
      "pygments_lexer": "ipython3",
      "version": "3.8"
    }
  },
  "nbformat_minor": 4,
  "nbformat": 4,
  "cells": [
    {
      "cell_type": "markdown",
      "source": "# Практическая работа №1: Краевая задача для уравнения II-го порядка.\n\nВыполнила студентка гр. 9382 Пя Сон Хва, вариант 30.",
      "metadata": {}
    },
    {
      "cell_type": "markdown",
      "source": "## Цель работы\n\nНаучиться применять дифференциальные уравнения в различных областях, решать краевую задачу для уравнения II-го порядка путём многократного решения задачи Коши.",
      "metadata": {}
    },
    {
      "cell_type": "markdown",
      "source": "## Основные теоретические положения\n\nЗадача Коши - задача отысканияч решения дифференциального уравнения, удовлетворяющего заданному начальному условию.\n\nМетод половинного деления основан на последовательном делении отрезка локализации корня пополам.\n\nДля этого выбирается начальное приближение к отрезку $[a,b]$, такое, что $f(a)*f(b) < 0$, затем определяется знак функции в точке $c = (a+b)/2$ - середине отрезка $[a,b]$.  Если он противоположен  знаку функции в точке $a$, то корень локализован на отрезке $[a,c]$, если же нет – то на отрезке $[c,b]$.",
      "metadata": {}
    },
    {
      "cell_type": "markdown",
      "source": "## Постановка задачи\n\nРассматривается следующая краевая задача. \n\nДано уравнение: $y''=f(x,y),a<x<b$ (1)\n\nи граничные условия $y(a)= y_a,y(b)= y_b$ (2)\n\nТребуется найти решение задачи (1)-(2) и построить его график. \nРассмотрим задачу Коши для уравнения (1) с начальными условиями $$y(a)= y_a,y'(a)=h (3)$$\nПлан решения основан на многократном решении задачи Коши (1), (3).  Значение решения задачи Коши при $x=b$ является функцией  от $h$.\n\nЗадача сводится к отысканию такого значения переменной $h$, при котором выполнено условие на правом конце отрезка, т.е.  должно выполняться $$y(b,h)= y_b, (4)$$\nЭто уравнение с одним неизвестным $h$.  \n\nДля решения уравнения (4) можно применить обычный метод половинного деления.",
      "metadata": {}
    },
    {
      "cell_type": "markdown",
      "source": "## Выполнение работы\n\n$$a= 0, b = 2$$\n$$f(x,y)= sin(x + y^2)$$\n$$y_a = 2, y_b = -2$$",
      "metadata": {}
    },
    {
      "cell_type": "markdown",
      "source": "По условию $y'' = sin(x + y^2)$ при $0 < x < 2$ $$y(0) = y_0 = 2, y(2) = y_2 = -2$$\nРассмотрим задачу Коши для нашего уравнения с начальными условиями $$ y(0) = 2, y'(0) = h$$\nИщем зависимость между $y'$ и $y$ в виде $y'= p(y)$, где $p(y)$ - неизвестная функция.\nТогда исходная задача примет вид\n$$p' = sin(x + y^2)$$\nБерем наугад числа $h_0 = -5, delta\\_h = 4$ и решим численно дифферециальное уравнение.",
      "metadata": {}
    },
    {
      "cell_type": "code",
      "source": "import matplotlib.pyplot as plt\nimport math\nfrom scipy.integrate import odeint, solve_bvp, solve_ivp\nimport numpy as np\n\na, b = 0, 2\ny_a, y_b = 2, -2\nh =  -5 #y'(0)\neps = 0.001\ndelta_h = 4\n\ndef fvdp1(x,y):\n    dy1 = y [1] #производная первого порядка\n    dy2 = math.sin(x + y[0]**2)\n    return [dy1,dy2]\n \ndef solve_second_order_ode(h): #y(0), y'(0)\n    global a, b, y_a\n    t2 = np.linspace(a, b, 1000)\n    y = odeint(fvdp1, [y_a, h], t2, tfirst=True)\n    return y\n    \ndef calc_Koshi():\n    global delta_h, eps, h, y_a, y_b\n    y = solve_second_order_ode(h)[-1][0]\n    while abs(y - y_b) > eps:\n        #print('h = ', h, 'y = ', y,'delta_h = ', delta_h);\n            \n        h_a = h - delta_h\n        h_b = h + delta_h\n        \n        y_tmp_a = solve_second_order_ode(h_a)[-1][0]\n        y_tmp_b = solve_second_order_ode(h_b)[-1][0]\n        \n        if (y_tmp_a - y_b)*(y - y_b) < 0:\n            h = h_a + delta_h/2\n        elif (y_tmp_b - y_b)*(y - y_b) < 0:\n            h = h_b - delta_h/2\n        else:\n            print(\"Task has no solution!\")\n            break\n            \n        delta_h /= 2\n        \n        y = solve_second_order_ode(h)[-1][0]\n        \n    #print('h = ', h, 'y = ', y,'delta_h = ', delta_h);  \n    return h\n    \ndef show_Koshi():\n    global y_a, a, b\n    y = solve_second_order_ode(h)\n    t2 = np.linspace(a,b,1000)\n    plt.subplot(211)\n    y1, = plt.plot(t2,y[:,0],label='y')\n    y1_1, = plt.plot(t2,y[:,1],label='y‘')             \n    plt.legend(handles=[y1,y1_1])\n    plt.show()\n    \nprint(calc_Koshi())\nshow_Koshi()",
      "metadata": {
        "trusted": true
      },
      "execution_count": null,
      "outputs": []
    },
    {
      "cell_type": "markdown",
      "source": "| h            | y                  | delta_h     |\n|--------------|--------------------|-------------|\n| -5           | -7.374513398104893 | 4           |\n| -3.0         | -2.9572753937831773| 2.0         |\n| -2.0         | -0.6261904180484523| 1.0         |\n| -2.5         | 1.4000913557466004 | 0.5         |\n| -2.75        | -1.7423118047382187| 0.25        |\n| -2.625       | -2.0675888349373475| 0.125       |\n| -2.5625      | -1.9864756991111208| 0.0625      |\n| -2.59375     | -1.9864756991111208| 0.03125     |\n| -2.609375    |-2.0271139726493286 | 0.015625    |\n| -2.6015625   | -2.006811909317198 | 0.0078125   |\n| -2.59765625  | -1.9966476432552283| 0.00390625  |\n| -2.599609375 | -2.001730789756992 | 0.001953125 |\n| -2.5986328125| -1.9991894630381557| 0.0009765625|",
      "metadata": {}
    },
    {
      "cell_type": "markdown",
      "source": "Получилось $h = -2.5986328125, y = -1.9991894630381557$",
      "metadata": {}
    },
    {
      "cell_type": "markdown",
      "source": "## Выводы\n\nЗадача свелась к отысканию такого значения $h$, при котором выполнялось наше правое краевое условие: $y(b, h) = y_b$.\n\nВычесленное значение и $y_b$ приблизительно совпали.",
      "metadata": {}
    },
    {
      "cell_type": "code",
      "source": "",
      "metadata": {},
      "execution_count": null,
      "outputs": []
    }
  ]
}